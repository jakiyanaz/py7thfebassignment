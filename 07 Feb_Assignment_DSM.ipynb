{
 "cells": [
  {
   "cell_type": "markdown",
   "id": "77189072-69d9-4580-9ba3-1f4cde9cdc70",
   "metadata": {},
   "source": [
    "Q1. You are writing code for a company. The requirement of the company is that you create a python \n",
    "function that will check whether the password entered by the user is correct or not. The function should \n",
    "take the password as input and return the string “Valid Password” if the entered password follows the \n",
    "below-given password guidelines else it should return “Invalid Password”.\n",
    "\n",
    "\n",
    "Note: 1. The Password should contain at least two uppercase letters and at least two lowercase letters.\n",
    "\n",
    "2. The Password should contain at least a number and three special characters.\n",
    "\n",
    "3. The length of the password should be 10 characters long."
   ]
  },
  {
   "cell_type": "code",
   "execution_count": 7,
   "id": "1ca58757-6160-4d2c-a453-13511223b48e",
   "metadata": {},
   "outputs": [
    {
     "name": "stdin",
     "output_type": "stream",
     "text": [
      "Enter the password:  AZakl12$#@\n"
     ]
    },
    {
     "data": {
      "text/plain": [
       "'Valid Password'"
      ]
     },
     "execution_count": 7,
     "metadata": {},
     "output_type": "execute_result"
    }
   ],
   "source": [
    "import re\n",
    "password = input(\"Enter the password: \")\n",
    "msg = \"\"\n",
    "def chkpass(password):\n",
    "    pattern = '^[A-Z]{2,}[a-z]{2,}[0-9]{1,}[@#$%^&]{3,}$'\n",
    "    if len(password) < 10:\n",
    "        msg = \"Invalid password\"\n",
    "    elif re.match(pattern,password):\n",
    "        msg = \"Valid Password\"\n",
    "    else:\n",
    "        msg = \"Invalid password\"\n",
    "    return msg\n",
    "\n",
    "chkpass(password)"
   ]
  },
  {
   "cell_type": "code",
   "execution_count": 45,
   "id": "6bd272fe-c44f-477a-a7f8-eb9b2b592bf5",
   "metadata": {},
   "outputs": [
    {
     "name": "stdin",
     "output_type": "stream",
     "text": [
      "Enter the password:  AcFgd1$%@0\n"
     ]
    },
    {
     "data": {
      "text/plain": [
       "'Valid Pasword'"
      ]
     },
     "execution_count": 45,
     "metadata": {},
     "output_type": "execute_result"
    }
   ],
   "source": [
    "#Alternate\n",
    "uppercase = 'ABCDEFGHIJKLMNOPQRSTUVWXYZ'\n",
    "lowercase = 'abcdefghijklmnopqrstuvwxyz'\n",
    "digit = '0123456789'\n",
    "specialchar = '@#$^&*%'\n",
    "paswd = input(\"Enter the password: \")\n",
    "def chkpaswd(paswd):\n",
    "    u,l,d,s = 0,0,0,0\n",
    "    if len(paswd) == 10:\n",
    "        for i in paswd:\n",
    "            if i in uppercase:\n",
    "                u = u+1\n",
    "            if i in lowercase:\n",
    "                l = l+1\n",
    "            if i in digit:\n",
    "                d = d+1\n",
    "            if i in specialchar:\n",
    "                s = s+1\n",
    "    if(u>=2 and l>=2 and d>=1 and s>=3):\n",
    "        return \"Valid Pasword\"\n",
    "    else:\n",
    "        return \"Invalid Password\"\n",
    "    \n",
    "chkpaswd(paswd)\n",
    "    "
   ]
  },
  {
   "cell_type": "markdown",
   "id": "a81d23dc-062e-4be5-b204-757d5c443fc6",
   "metadata": {},
   "source": [
    "Q2. Solve the below-given questions using at least one of the following: \n",
    "\n",
    "1. Lambda function\n",
    "\n",
    "2. Filter function\n",
    "\n",
    "3. Map function\n",
    "\n",
    "4. List Comprehension\n",
    "\n",
    " Check if the string starts with a particular letter\n",
    "\n",
    " Check if the string is numeric\n",
    "\n",
    " Sort a list of tuples having fruit names and their quantity. [(\"mango\",99),(\"orange\",80), (\"grapes\", 1000)]\n",
    "\n",
    " Find the squares of numbers from 1 to 10\n",
    "\n",
    " Find the cube root of numbers from 1 to 10\n",
    "\n",
    " Check if a given number is even\n",
    "\n",
    " Filter odd numbers from the given list.\n",
    "\n",
    " [1,2,3,4,5,6,7,8,9,10]\n",
    " \n",
    " Sort a list of integers into positive and negative integers lists.\n",
    "\n",
    " [1,2,3,4,5,6,-1,-2,-3,-4,-5,0]"
   ]
  },
  {
   "cell_type": "code",
   "execution_count": 13,
   "id": "74f5c67f-67f3-4f11-a5fa-f45f6a585c10",
   "metadata": {},
   "outputs": [
    {
     "name": "stdin",
     "output_type": "stream",
     "text": [
      "Enter the string:  the company\n"
     ]
    },
    {
     "name": "stdout",
     "output_type": "stream",
     "text": [
      "True\n"
     ]
    }
   ],
   "source": [
    "#Check if the string starts with a particular letter\n",
    "string = input(\"Enter the string: \").title()\n",
    "letter = 'T'\n",
    "starts_with = lambda x : True if string.startswith(letter) else False\n",
    "print(starts_with(string))"
   ]
  },
  {
   "cell_type": "code",
   "execution_count": 3,
   "id": "7f164767-d279-4483-a8ea-ff4a63aad922",
   "metadata": {},
   "outputs": [
    {
     "name": "stdin",
     "output_type": "stream",
     "text": [
      "Enter the string:  fghgh\n"
     ]
    },
    {
     "name": "stdout",
     "output_type": "stream",
     "text": [
      "False\n"
     ]
    }
   ],
   "source": [
    "# Check if the string is numeric\n",
    "string = input(\"Enter the string: \")\n",
    "isnumeric = lambda x : True if string.isnumeric() == True else False\n",
    "print(isnumeric(string))"
   ]
  },
  {
   "cell_type": "code",
   "execution_count": 7,
   "id": "de62f5c0-7c88-46e2-8d78-41dc68a97f6b",
   "metadata": {},
   "outputs": [
    {
     "data": {
      "text/plain": [
       "[('grapes', 1000), ('mango', 99), ('orange', 80)]"
      ]
     },
     "execution_count": 7,
     "metadata": {},
     "output_type": "execute_result"
    }
   ],
   "source": [
    "#Sort a list of tuples having fruit names and their quantity. [(\"mango\",99),(\"orange\",80), (\"grapes\", 1000)]\n",
    "l = [(\"mango\",99),(\"orange\",80), (\"grapes\", 1000)]\n",
    "def sort_tuple(arg):\n",
    "    arg.sort(key = lambda x : x[0])\n",
    "    return arg\n",
    "\n",
    "sort_tuple(l)"
   ]
  },
  {
   "cell_type": "code",
   "execution_count": 14,
   "id": "3c55e789-ff92-4dac-9429-797f16154d21",
   "metadata": {},
   "outputs": [
    {
     "name": "stdout",
     "output_type": "stream",
     "text": [
      "1\n",
      "4\n",
      "9\n",
      "16\n",
      "25\n",
      "36\n",
      "49\n",
      "64\n",
      "81\n",
      "100\n",
      "[1, 4, 9, 16, 25, 36, 49, 64, 81, 100]\n"
     ]
    }
   ],
   "source": [
    "#Find the squares of numbers from 1 to 10\n",
    "square = lambda x : x*x\n",
    "for i in range(1, 11):\n",
    "    print(square(i))\n",
    "    \n",
    "#way2\n",
    "l = []\n",
    "for i in range(1,11):\n",
    "    l.append(i)\n",
    "sq = lambda y : y*y\n",
    "squares = map(sq,l)\n",
    "print(list(squares))"
   ]
  },
  {
   "cell_type": "code",
   "execution_count": 18,
   "id": "5582e8af-64fa-4fd1-81e4-c37ec6a8dc56",
   "metadata": {},
   "outputs": [
    {
     "name": "stdout",
     "output_type": "stream",
     "text": [
      "[1.0, 1.2599210498948732, 1.4422495703074083, 1.5874010519681994, 1.7099759466766968, 1.8171205928321397, 1.912931182772389, 2.0, 2.080083823051904, 2.154434690031884]\n"
     ]
    }
   ],
   "source": [
    "#Find the cube root of numbers from 1 to 10\n",
    "import math\n",
    "l = []\n",
    "for i in range(1,11):\n",
    "    l.append(i)\n",
    "l2 = [math.pow(x,(1/3)) for x in l]\n",
    "print(l2)"
   ]
  },
  {
   "cell_type": "code",
   "execution_count": 20,
   "id": "61d72048-27ae-4a9d-907b-8f21017e52be",
   "metadata": {},
   "outputs": [
    {
     "name": "stdin",
     "output_type": "stream",
     "text": [
      "Enter the number:  7\n"
     ]
    },
    {
     "name": "stdout",
     "output_type": "stream",
     "text": [
      "odd\n"
     ]
    }
   ],
   "source": [
    "#Check if a given number is even\n",
    "num = int(input(\"Enter the number: \"))\n",
    "checknum = lambda x : \"Even\" if x % 2 == 0 else \"odd\"\n",
    "print(checknum(num))"
   ]
  },
  {
   "cell_type": "code",
   "execution_count": 31,
   "id": "c66aa884-dce8-4dfd-ac70-9520948ed059",
   "metadata": {},
   "outputs": [
    {
     "name": "stdout",
     "output_type": "stream",
     "text": [
      "[1, 3, 5, 7, 9]\n"
     ]
    }
   ],
   "source": [
    "#Filter odd numbers from the given list. [1,2,3,4,5,6,7,8,9,10]\n",
    "l = [1,2,3,4,5,6,7,8,9,10]\n",
    "def findodd(arg):\n",
    "    if arg%2 != 0:\n",
    "        return True\n",
    "    else:\n",
    "        return False\n",
    "        \n",
    "oddnums = filter(findodd, l)\n",
    "odd_nums = list(oddnums)\n",
    "print(odd_nums)"
   ]
  },
  {
   "cell_type": "code",
   "execution_count": 40,
   "id": "ca416bc6-545b-4ba8-8335-62fbed53fb60",
   "metadata": {},
   "outputs": [
    {
     "data": {
      "text/plain": [
       "([1, 2, 3, 4, 5, 6, 0], [-1, -2, -3, -4, -5])"
      ]
     },
     "execution_count": 40,
     "metadata": {},
     "output_type": "execute_result"
    }
   ],
   "source": [
    "#Sort a list of integers into positive and negative integers lists. [1,2,3,4,5,6,-1,-2,-3,-4,-5,0]\n",
    "l = [1,2,3,4,5,6,-1,-2,-3,-4,-5,0]\n",
    "l1 = []\n",
    "l2 = []\n",
    "def sortlist(arg):\n",
    "    for i in arg:\n",
    "        if i >= 0:\n",
    "            l1.append(i)\n",
    "        else:\n",
    "            l2.append(i)\n",
    "    return l1,l2\n",
    "\n",
    "sortlist(l)"
   ]
  },
  {
   "cell_type": "code",
   "execution_count": null,
   "id": "31e3f32d-86c6-4767-b7c7-688a68920d94",
   "metadata": {},
   "outputs": [],
   "source": []
  }
 ],
 "metadata": {
  "kernelspec": {
   "display_name": "Python 3 (ipykernel)",
   "language": "python",
   "name": "python3"
  },
  "language_info": {
   "codemirror_mode": {
    "name": "ipython",
    "version": 3
   },
   "file_extension": ".py",
   "mimetype": "text/x-python",
   "name": "python",
   "nbconvert_exporter": "python",
   "pygments_lexer": "ipython3",
   "version": "3.10.8"
  }
 },
 "nbformat": 4,
 "nbformat_minor": 5
}
